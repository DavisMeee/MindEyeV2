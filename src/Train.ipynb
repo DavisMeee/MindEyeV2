{
 "cells": [
  {
   "cell_type": "markdown",
   "id": "b0f0f4f3",
   "metadata": {},
   "source": [
    "# Import packages & functions"
   ]
  },
  {
   "cell_type": "code",
   "execution_count": 5,
   "id": "5bad764b-45c1-45ce-a716-8d055e09821a",
   "metadata": {
    "tags": []
   },
   "outputs": [],
   "source": [
    "import os\n",
    "import sys\n",
    "import json\n",
    "import argparse\n",
    "import numpy as np\n",
    "import math\n",
    "from einops import rearrange\n",
    "import time\n",
    "import random\n",
    "import string\n",
    "import h5py\n",
    "from tqdm import tqdm\n",
    "\n",
    "import webdataset as wds\n",
    "import gc\n",
    "\n",
    "import matplotlib.pyplot as plt\n",
    "import torch\n",
    "import torch.nn as nn\n",
    "from torchvision import transforms\n",
    "\n",
    "from accelerate import Accelerator\n",
    "\n",
    "# tf32 data type is faster than standard float32\n",
    "torch.backends.cuda.matmul.allow_tf32 = True\n",
    "\n",
    "# custom functions #\n",
    "import utils"
   ]
  },
  {
   "cell_type": "code",
   "execution_count": 6,
   "id": "cc5d2e32-6027-4a19-bef4-5ca068db35bb",
   "metadata": {},
   "outputs": [
    {
     "name": "stdout",
     "output_type": "stream",
     "text": [
      "LOCAL RANK  0\n"
     ]
    }
   ],
   "source": [
    "### Multi-GPU config ###\n",
    "torch.cuda.set_device(3)   # cuda : 0\n",
    "local_rank = os.getenv('RANK')\n",
    "if local_rank is None: \n",
    "    local_rank = 0\n",
    "else:\n",
    "    local_rank = int(local_rank)\n",
    "print(\"LOCAL RANK \", local_rank)  \n",
    "\n",
    "num_devices = torch.cuda.device_count()\n",
    "if num_devices==0: num_devices = 1\n",
    "\n",
    "accelerator = Accelerator(split_batches=False, mixed_precision=\"fp16\")\n",
    "global_batch_size = batch_size = 16"
   ]
  },
  {
   "cell_type": "code",
   "execution_count": 7,
   "id": "b767ab6f-d4a9-47a5-b3bf-f56bf6760c0c",
   "metadata": {},
   "outputs": [
    {
     "name": "stdout",
     "output_type": "stream",
     "text": [
      "PID of this process = 22846\n",
      "device: cuda:3\n",
      "Distributed environment: NO\n",
      "Num processes: 1\n",
      "Process index: 0\n",
      "Local process index: 0\n",
      "Device: cuda\n",
      "\n",
      "Mixed precision type: fp16\n",
      "\n",
      "distributed = False num_devices = 4 local rank = 0 world size = 1 data_type = torch.float16\n"
     ]
    }
   ],
   "source": [
    "print(\"PID of this process =\",os.getpid())\n",
    "# device = accelerator.device\n",
    "device = 'cuda:3'\n",
    "print(\"device:\",device)\n",
    "num_workers = num_devices\n",
    "print(accelerator.state)\n",
    "world_size = accelerator.state.num_processes\n",
    "distributed = not accelerator.state.distributed_type == 'NO'\n",
    "\n",
    "# set data_type to match your mixed precision\n",
    "if accelerator.mixed_precision == \"bf16\":\n",
    "    data_type = torch.bfloat16\n",
    "elif accelerator.mixed_precision == \"fp16\":\n",
    "    data_type = torch.float16\n",
    "else:\n",
    "    data_type = torch.float32\n",
    "\n",
    "print(\"distributed =\",distributed, \"num_devices =\", num_devices, \"local rank =\", local_rank, \"world size =\", world_size, \"data_type =\", data_type)\n",
    "print = accelerator.print # only print if local_rank=0"
   ]
  },
  {
   "cell_type": "markdown",
   "id": "9018b82b-c054-4463-9527-4b0c2a75bda6",
   "metadata": {
    "tags": []
   },
   "source": [
    "# Configurations"
   ]
  },
  {
   "cell_type": "code",
   "execution_count": 26,
   "id": "2b61fec7-72a0-4b67-86da-1375f1d9fbd3",
   "metadata": {},
   "outputs": [
    {
     "name": "stdout",
     "output_type": "stream",
     "text": [
      "model_name: MixerMLP\n",
      "['--data_path=../fsx/proj-fmri/shared/natural-scenes-dataset', '--model_name=MixerMLP', '--subj=1', '--batch_size=16', '--no-blurry_recon', '--hidden_dim=1024', '--num_sessions=3', '--len_past=2', '--len_future=0', '--max_lr=3e-4', '--mixup_pct=.66', '--num_epochs=12', '--no-use_image_aug', '--ckpt_interval=999', '--no-ckpt_saving']\n",
      "The autoreload extension is already loaded. To reload it, use:\n",
      "  %reload_ext autoreload\n"
     ]
    }
   ],
   "source": [
    "# if running this interactively, can specify jupyter_args here for argparser to use\n",
    "if utils.is_interactive():\n",
    "    model_name = \"MixerMLP\"\n",
    "    print(\"model_name:\", model_name)\n",
    "    \n",
    "    # global_batch_size and batch_size should already be defined in the above cells\n",
    "    # other variables can be specified in the following string:\n",
    "    jupyter_args = f\"--data_path=../fsx/proj-fmri/shared/natural-scenes-dataset \\\n",
    "                    --model_name={model_name} \\\n",
    "                    --subj=1 --batch_size={batch_size} --no-blurry_recon --hidden_dim=1024 --num_sessions=5 --len_past=2 --len_future=0\\\n",
    "                    --max_lr=3e-4 --mixup_pct=.66 --num_epochs=12 --no-use_image_aug --ckpt_interval=999 --no-ckpt_saving\"\n",
    "    \n",
    "    jupyter_args = jupyter_args.split()\n",
    "    print(jupyter_args)\n",
    "    \n",
    "    from IPython.display import clear_output # function to clear print outputs in cell\n",
    "    %load_ext autoreload \n",
    "    # this allows you to change functions in models.py or utils.py and have this notebook automatically update with your revisions\n",
    "    %autoreload 2 "
   ]
  },
  {
   "cell_type": "code",
   "execution_count": 38,
   "id": "2028bdf0-2f41-46d9-b6e7-86b870dbf16c",
   "metadata": {},
   "outputs": [],
   "source": [
    "parser = argparse.ArgumentParser(description=\"Model Training Configuration\")\n",
    "parser.add_argument(\n",
    "    \"--model_name\", type=str, default=\"MixerMLP\",\n",
    "    help=\"name of model, used for ckpt saving and wandb logging (if enabled)\",\n",
    ")\n",
    "parser.add_argument(\n",
    "    \"--data_path\", type=str, default=\"../fsx/proj-fmri/shared/natural-scenes-dataset\",\n",
    "    help=\"Path to where NSD data is stored / where to download it to\",\n",
    ")\n",
    "parser.add_argument(\n",
    "    \"--subj\",type=int, default=1, choices=[1,2,5,7],\n",
    ")\n",
    "parser.add_argument(\n",
    "    \"--num_sessions\", type=int, default=2,\n",
    "    help=\"Number of training sessions to include (zero = all sessions)\",\n",
    ")\n",
    "parser.add_argument(\n",
    "    \"--batch_size\", type=int, default=32,\n",
    "    help=\"Batch size can be increased by 10x if only training v2c and not diffusion diffuser\",\n",
    ")\n",
    "parser.add_argument(\n",
    "    \"--wandb_log\",action=argparse.BooleanOptionalAction,default=False,\n",
    "    help=\"whether to log to wandb\",\n",
    ")\n",
    "parser.add_argument(\n",
    "    \"--resume_from_ckpt\",action=argparse.BooleanOptionalAction,default=False,\n",
    "    help=\"if not using wandb and want to resume from a ckpt\",\n",
    ")\n",
    "parser.add_argument(\n",
    "    \"--wandb_project\",type=str,default=\"stability\",\n",
    "    help=\"wandb project name\",\n",
    ")\n",
    "parser.add_argument(\n",
    "    \"--mixup_pct\",type=float,default=.66,\n",
    "    help=\"proportion of way through training when to switch from BiMixCo to SoftCLIP\",\n",
    ")\n",
    "parser.add_argument(\n",
    "    \"--blurry_recon\",action=argparse.BooleanOptionalAction,default=False,\n",
    "    help=\"whether to output blurry reconstructions\",\n",
    ")\n",
    "parser.add_argument(\n",
    "    \"--blur_scale\",type=float,default=100.,\n",
    "    help=\"multiply loss from blurry recons by this number\",\n",
    ")\n",
    "parser.add_argument(\n",
    "    \"--clip_scale\",type=float,default=1.,\n",
    "    help=\"multiply contrastive loss by this number\",\n",
    ")\n",
    "parser.add_argument(\n",
    "    \"--use_image_aug\",action=argparse.BooleanOptionalAction,default=False,\n",
    "    help=\"whether to use image augmentation\",\n",
    ")\n",
    "parser.add_argument(\n",
    "    \"--num_epochs\",type=int,default=12,\n",
    "    help=\"number of epochs of training\",\n",
    ")\n",
    "parser.add_argument(\n",
    "    \"--hidden_dim\",type=int,default=2048,\n",
    ")\n",
    "parser.add_argument(\n",
    "    \"--len_past\",type=int,default=3,\n",
    ")\n",
    "parser.add_argument(\n",
    "    \"--len_future\",type=int,default=3,\n",
    ")\n",
    "parser.add_argument(\n",
    "    \"--lr_scheduler_type\",type=str,default='cycle',choices=['cycle','linear'],\n",
    ")\n",
    "parser.add_argument(\n",
    "    \"--ckpt_saving\",action=argparse.BooleanOptionalAction,default=True,\n",
    ")\n",
    "parser.add_argument(\n",
    "    \"--ckpt_interval\",type=int,default=5,\n",
    "    help=\"save backup ckpt and reconstruct every x epochs\",\n",
    ")\n",
    "parser.add_argument(\n",
    "    \"--seed\",type=int,default=42,\n",
    ")\n",
    "parser.add_argument(\n",
    "    \"--max_lr\",type=float,default=3e-4,\n",
    ")\n",
    "\n",
    "if utils.is_interactive():\n",
    "    args = parser.parse_args(jupyter_args)\n",
    "else:\n",
    "    args = parser.parse_args()\n",
    "\n",
    "# create global variables without the args prefix\n",
    "for attribute_name in vars(args).keys():\n",
    "    globals()[attribute_name] = getattr(args, attribute_name)\n",
    "\n",
    "# seed all random functions\n",
    "utils.seed_everything(seed)\n",
    "\n",
    "outdir = os.path.abspath(f'../train_logs/{model_name}')\n",
    "if not os.path.exists(outdir) and ckpt_saving:\n",
    "    os.makedirs(outdir,exist_ok=True)\n",
    "    \n",
    "if use_image_aug:\n",
    "    import kornia\n",
    "    from kornia.augmentation.container import AugmentationSequential\n",
    "    img_augment = AugmentationSequential(\n",
    "        kornia.augmentation.RandomResizedCrop((224,224), (0.6,1), p=0.3),\n",
    "        kornia.augmentation.Resize((224, 224)),\n",
    "        kornia.augmentation.RandomHorizontalFlip(p=0.3),\n",
    "        kornia.augmentation.ColorJitter(brightness=0.4, contrast=0.4, saturation=0.2, hue=0.1, p=0.3),\n",
    "        kornia.augmentation.RandomGrayscale(p=0.3),\n",
    "        same_on_batch=False,\n",
    "        data_keys=[\"input\"],\n",
    "    )\n",
    "seq_len = len_past + 1 + len_future"
   ]
  },
  {
   "cell_type": "markdown",
   "id": "42d13c25-1369-4c49-81d4-83d713586096",
   "metadata": {
    "tags": []
   },
   "source": [
    "# Prep data, models, and dataloaders"
   ]
  },
  {
   "cell_type": "markdown",
   "id": "1c023f24-5233-4a15-a2f5-78487b3a8546",
   "metadata": {},
   "source": [
    "## Dataloader"
   ]
  },
  {
   "cell_type": "code",
   "execution_count": 39,
   "id": "995d9983-463c-4d8b-b96d-742799e2c62e",
   "metadata": {},
   "outputs": [
    {
     "name": "stdout",
     "output_type": "stream",
     "text": [
      "num_sessions = 3 batch_size = 16 num_iterations_per_epoch = 200 num_samples_per_epoch = 3200\n"
     ]
    }
   ],
   "source": [
    "def my_split_by_node(urls): return urls\n",
    "\n",
    "nsessions_allsubj=np.array([40, 40, 32, 30, 40, 32, 40, 30])\n",
    "\n",
    "if num_sessions == 0: num_sessions = nsessions_allsubj[subj-1]\n",
    "\n",
    "num_samples_per_epoch = 12800 // num_devices \n",
    "# or if you want less samples per epoch if you're using less data, can do (750*num_sessions) // num_devices \n",
    "\n",
    "num_iterations_per_epoch = num_samples_per_epoch // batch_size\n",
    "\n",
    "print(\"num_sessions =\", num_sessions, \"batch_size =\", batch_size, \"num_iterations_per_epoch =\",num_iterations_per_epoch, \"num_samples_per_epoch =\",num_samples_per_epoch,)"
   ]
  },
  {
   "cell_type": "code",
   "execution_count": 40,
   "id": "81084834-035f-4465-ad59-59e6b806a2f5",
   "metadata": {},
   "outputs": [
    {
     "name": "stdout",
     "output_type": "stream",
     "text": [
      "../fsx/proj-fmri/shared/natural-scenes-dataset/wds/subj01/train/{0..2}.tar\n",
      "../fsx/proj-fmri/shared/natural-scenes-dataset/wds/subj01/test/0.tar\n"
     ]
    }
   ],
   "source": [
    "train_url = f\"{data_path}/wds/subj0{subj}/train/\" + \"{0..\" + f\"{num_sessions-1}\" + \"}.tar\"\n",
    "print(train_url)\n",
    "\n",
    "train_data = wds.WebDataset(train_url,resampled=True,nodesplitter=my_split_by_node)\\\n",
    "                    .shuffle(750, initial=1500, rng=random.Random(42))\\\n",
    "                    .decode(\"torch\")\\\n",
    "                    .rename(behav=\"behav.npy\", past_behav=\"past_behav.npy\", future_behav=\"future_behav.npy\", olds_behav=\"olds_behav.npy\")\\\n",
    "                    .to_tuple(*[\"behav\", \"past_behav\", \"future_behav\", \"olds_behav\"])\\\n",
    "                    .with_epoch(num_samples_per_epoch)\n",
    "train_dl = torch.utils.data.DataLoader(train_data, batch_size=batch_size, shuffle=False, drop_last=True, pin_memory=True)\n",
    "\n",
    "# if using same test dataset as MindEyeV1:\n",
    "test_url = f\"{data_path}/wds/subj0{subj}/test/\" + \"0.tar\"\n",
    "\n",
    "## if using all shared1000 test images now that they released the last 3 sessions per participant:\n",
    "# test_url = f\"{data_path}/wds/subj0{subj}/new_test/\" + \"0.tar\"\n",
    "\n",
    "print(test_url)\n",
    "\n",
    "num_test = 2770 # total number of test samples\n",
    "test_batch_size = 300 # number of test samples to use during validation\n",
    "test_data = wds.WebDataset(test_url,resampled=False,nodesplitter=my_split_by_node)\\\n",
    "                    .shuffle(750, initial=1500, rng=random.Random(42))\\\n",
    "                    .decode(\"torch\")\\\n",
    "                    .rename(behav=\"behav.npy\", past_behav=\"past_behav.npy\", future_behav=\"future_behav.npy\", olds_behav=\"olds_behav.npy\")\\\n",
    "                    .to_tuple(*[\"behav\", \"past_behav\", \"future_behav\", \"olds_behav\"])\n",
    "test_dl = torch.utils.data.DataLoader(test_data, batch_size=num_test, shuffle=False, drop_last=False, pin_memory=True)"
   ]
  },
  {
   "cell_type": "markdown",
   "id": "203b060a-2dd2-4c35-929b-c576be82eb52",
   "metadata": {},
   "source": [
    "### check dataloaders are working"
   ]
  },
  {
   "cell_type": "code",
   "execution_count": 41,
   "id": "e7a9c68c-c3c9-4080-bd99-067c4486dc37",
   "metadata": {},
   "outputs": [],
   "source": [
    "# test_vox_indices = []\n",
    "# test_73k_images = []\n",
    "# for test_i, (behav, past_behav, future_behav, old_behav) in enumerate(test_dl):\n",
    "#     test_vox_indices = np.append(test_vox_indices, behav[:,0,5].cpu().numpy())\n",
    "#     test_73k_images = np.append(test_73k_images, behav[:,0,0].cpu().numpy())\n",
    "# test_vox_indices = test_vox_indices.astype(np.int16)\n",
    "# print(test_i, (test_i+1) * num_test, len(test_vox_indices))\n",
    "# print(\"---\\n\")\n",
    "\n",
    "# train_vox_indices = []\n",
    "# train_73k_images = []\n",
    "# for train_i, (behav, past_behav, future_behav, old_behav) in enumerate(train_dl):\n",
    "#     train_vox_indices = np.append(train_vox_indices, behav[:,0,5].long().cpu().numpy())\n",
    "#     train_73k_images = np.append(train_73k_images, behav[:,0,0].cpu().numpy())\n",
    "# train_vox_indices = train_vox_indices.astype(np.int16)\n",
    "# print(train_i, (train_i+1) * batch_size, len(train_vox_indices))\n",
    "\n",
    "# ## example output ##\n",
    "# # 0 2770 2770\n",
    "# # ---\n",
    "# # 99 12800 12800"
   ]
  },
  {
   "cell_type": "markdown",
   "id": "45fad12c-f9fb-4408-8fd4-9bca324ad634",
   "metadata": {},
   "source": [
    "## Load data and images"
   ]
  },
  {
   "cell_type": "code",
   "execution_count": 42,
   "id": "039dd330-7339-4f88-8f00-45f95e47baa0",
   "metadata": {},
   "outputs": [
    {
     "name": "stdout",
     "output_type": "stream",
     "text": [
      "subj01 betas loaded into memory\n",
      "voxels torch.Size([27750, 15724])\n",
      "images torch.Size([73000, 3, 224, 224])\n"
     ]
    }
   ],
   "source": [
    "# load betas (use fp32 hdf5 file to have more flexible precision and include all sessions inc. those released after algonauts)\n",
    "f = h5py.File(f'{data_path}/betas_all_subj0{subj}.hdf5', 'r')  # 27750,15724\n",
    "\n",
    "voxels = f['betas'][:]\n",
    "print(f\"subj0{subj} betas loaded into memory\")\n",
    "voxels = torch.Tensor(voxels).to(\"cpu\").to(data_type)\n",
    "print(\"voxels\", voxels.shape)\n",
    "num_voxels = voxels.shape[-1]\n",
    "\n",
    "# load orig images\n",
    "f = h5py.File(f'{data_path}/coco_images_224_float16.hdf5', 'r')\n",
    "images = f['images'][:]\n",
    "images = torch.Tensor(images).to(\"cpu\").to(data_type)\n",
    "print(\"images\", images.shape)"
   ]
  },
  {
   "cell_type": "markdown",
   "id": "10ec4517-dbdf-4ece-98f6-4714d5de4e15",
   "metadata": {},
   "source": [
    "## Load models"
   ]
  },
  {
   "cell_type": "markdown",
   "id": "48d6160e-1ee8-4da7-a755-9dbb452a6fa5",
   "metadata": {},
   "source": [
    "### CLIP image embeddings  model"
   ]
  },
  {
   "cell_type": "code",
   "execution_count": 43,
   "id": "b0420dc0-199e-4c1a-857d-b1747058b467",
   "metadata": {},
   "outputs": [
    {
     "name": "stdout",
     "output_type": "stream",
     "text": [
      "ViT-L/14 cuda:3\n"
     ]
    }
   ],
   "source": [
    "from models import Clipper\n",
    "# clip_model = Clipper(\"ViT-L/14\", device=torch.device(f\"cuda:{local_rank}\"), hidden_state=True, norm_embs=True)\n",
    "clip_model = Clipper(\"ViT-L/14\", device=torch.device(f\"cuda:3\"), hidden_state=True, norm_embs=True)\n",
    "clip_seq_dim = 257\n",
    "clip_emb_dim = 768 "
   ]
  },
  {
   "cell_type": "markdown",
   "id": "5b79bd38-6990-4504-8d45-4a68d57d8885",
   "metadata": {},
   "source": [
    "### SD VAE"
   ]
  },
  {
   "cell_type": "code",
   "execution_count": 44,
   "id": "01baff79-8114-482b-b115-6f05aa8ad691",
   "metadata": {},
   "outputs": [],
   "source": [
    "if blurry_recon:\n",
    "    from diffusers import AutoencoderKL\n",
    "    autoenc = AutoencoderKL.from_pretrained(\"madebyollin/sdxl-vae-fp16-fix\", torch_dtype=data_type, cache_dir=\"./fsx/proj-fmri/shared/cache\")\n",
    "    autoenc.eval()\n",
    "    autoenc.requires_grad_(False)\n",
    "    autoenc.to(device)\n",
    "    utils.count_params(autoenc)"
   ]
  },
  {
   "cell_type": "markdown",
   "id": "120c8eee-9834-437d-bb60-b38faef50138",
   "metadata": {},
   "source": [
    "#### downsampled images"
   ]
  },
  {
   "cell_type": "code",
   "execution_count": 45,
   "id": "6d1ba8dd-64c2-4ac9-947e-725b7f2e3e50",
   "metadata": {},
   "outputs": [],
   "source": [
    "if blurry_recon:\n",
    "    if utils.is_interactive(): display(utils.torch_to_Image(images[[30]]))\n",
    "\n",
    "    input_batch = images[[30]].to(device)\n",
    "    print(input_batch.shape)\n",
    "\n",
    "    downsampled_image = nn.functional.interpolate(input_batch, size=(8, 8), mode='bilinear', align_corners=False)\n",
    "    re_upsampled_image = nn.functional.interpolate(downsampled_image, size=(128, 128), mode='nearest')\n",
    "    re_upsampled_enc = autoenc.encode(2*re_upsampled_image-1).latent_dist.mode() * 0.18215\n",
    "    print(re_upsampled_enc.shape)\n",
    "    \n",
    "    if utils.is_interactive(): display(utils.torch_to_Image((autoenc.decode(re_upsampled_enc/0.18215).sample / 2 + 0.5).clamp(0,1)))"
   ]
  },
  {
   "cell_type": "markdown",
   "id": "260e5e4a-f697-4b2c-88fc-01f6a54886c0",
   "metadata": {},
   "source": [
    "### MindEye modules"
   ]
  },
  {
   "cell_type": "code",
   "execution_count": 46,
   "id": "c44c271b-173f-472e-b059-a2eda0f4c4c5",
   "metadata": {},
   "outputs": [
    {
     "data": {
      "text/plain": [
       "MindEyeModule()"
      ]
     },
     "execution_count": 46,
     "metadata": {},
     "output_type": "execute_result"
    }
   ],
   "source": [
    "class MindEyeModule(nn.Module):\n",
    "    def __init__(self):\n",
    "        super(MindEyeModule, self).__init__()\n",
    "    def forward(self, x):\n",
    "        return x\n",
    "        \n",
    "model = MindEyeModule()\n",
    "model"
   ]
  },
  {
   "cell_type": "code",
   "execution_count": 47,
   "id": "038a5d61-4769-40b9-a004-f4e7b5b38bb0",
   "metadata": {},
   "outputs": [
    {
     "name": "stdout",
     "output_type": "stream",
     "text": [
      "param counts:\n",
      "16,102,400 total\n",
      "16,102,400 trainable\n",
      "param counts:\n",
      "16,102,400 total\n",
      "16,102,400 trainable\n",
      "torch.Size([2, 15724])\n",
      "torch.Size([2, 1, 1024])\n"
     ]
    }
   ],
   "source": [
    "class RidgeRegression(torch.nn.Module):\n",
    "    # make sure to add weight_decay when initializing optimizer\n",
    "    def __init__(self, input_size, out_features): \n",
    "        super(RidgeRegression, self).__init__()\n",
    "        self.out_features = out_features\n",
    "        self.linear = torch.nn.Linear(input_size, out_features)\n",
    "    def forward(self, x):\n",
    "        if x.ndim == 3: # do ridge mapping the same way for each timepoint\n",
    "            ridge_out = torch.cat([self.linear(x[:,xi])[:,None] for xi in range(x.shape[1])], dim=1)\n",
    "            return ridge_out\n",
    "        else:\n",
    "            x = self.linear(x).unsqueeze(1)\n",
    "            return x\n",
    "        \n",
    "model.ridge = RidgeRegression(voxels.shape[1], out_features=hidden_dim)  # hidden_dim = 1024\n",
    "utils.count_params(model.ridge)\n",
    "utils.count_params(model)\n",
    "\n",
    "fake_input = torch.randn((2,voxels.shape[1]))\n",
    "print(fake_input.shape)\n",
    "print(model.ridge(fake_input).shape)"
   ]
  },
  {
   "cell_type": "code",
   "execution_count": 48,
   "id": "3602c333-d029-465c-8fb4-c3ccffdba6fd",
   "metadata": {},
   "outputs": [
    {
     "name": "stdout",
     "output_type": "stream",
     "text": [
      "param counts:\n",
      "622,296,184 total\n",
      "622,296,184 trainable\n",
      "param counts:\n",
      "638,398,584 total\n",
      "638,398,584 trainable\n",
      "fake_input.shape torch.Size([2, 3, 1024])\n",
      "torch.Size([2, 257, 768]) torch.Size([1])\n"
     ]
    }
   ],
   "source": [
    "from functools import partial\n",
    "from diffusers.models.vae import Decoder\n",
    "class BrainNetwork(nn.Module):\n",
    "    def __init__(self, out_dim=768, in_dim=15724, seq_len=2, h=4096, n_blocks=4, drop=.15, clip_size=768):\n",
    "        super().__init__()\n",
    "        self.seq_len = seq_len\n",
    "        self.h = h\n",
    "        self.clip_size = clip_size\n",
    "        \n",
    "        # Mixer Blocks\n",
    "        self.mixer_blocks1 = nn.ModuleList([\n",
    "            self.mixer_block1(h, drop) for _ in range(n_blocks)\n",
    "        ])\n",
    "        self.mixer_blocks2 = nn.ModuleList([\n",
    "            self.mixer_block2(seq_len, drop) for _ in range(n_blocks)\n",
    "        ])\n",
    "        \n",
    "        # Output linear layer\n",
    "        self.clin1 = nn.Linear(h * seq_len, out_dim, bias=True)\n",
    "\n",
    "        self.clip_proj = nn.Sequential(\n",
    "            nn.LayerNorm(clip_size),\n",
    "            nn.GELU(),\n",
    "            nn.Linear(clip_size, 2048),\n",
    "            nn.LayerNorm(2048),\n",
    "            nn.GELU(),\n",
    "            nn.Linear(2048, 2048),\n",
    "            nn.LayerNorm(2048),\n",
    "            nn.GELU(),\n",
    "            nn.Linear(2048, clip_size)\n",
    "        )\n",
    "\n",
    "        if blurry_recon:\n",
    "            self.blin1 = nn.Sequential(\n",
    "                nn.Linear(h*seq_len, 4096, bias=True),\n",
    "                nn.LayerNorm(4096),\n",
    "                nn.GELU(),\n",
    "                nn.Linear(4096, 4096))\n",
    "            self.bgroupnorm = nn.GroupNorm(1, 256)\n",
    "            self.bupsampler = Decoder(\n",
    "                in_channels=256,\n",
    "                out_channels=4,\n",
    "                up_block_types=[\"UpDecoderBlock2D\",\"UpDecoderBlock2D\",\"UpDecoderBlock2D\"],\n",
    "                block_out_channels=[32, 64, 128],\n",
    "                layers_per_block=1,\n",
    "            )\n",
    "        \n",
    "    def mixer_block1(self, h, drop):\n",
    "        return nn.Sequential(\n",
    "            nn.LayerNorm(h),\n",
    "            self.mlp(h, h, drop),  # Token mixing\n",
    "        )\n",
    "\n",
    "    def mixer_block2(self, seq_len, drop):\n",
    "        return nn.Sequential(\n",
    "            nn.LayerNorm(seq_len),\n",
    "            self.mlp(seq_len, seq_len, drop)  # Channel mixing\n",
    "        )\n",
    "    \n",
    "    def mlp(self, in_dim, out_dim, drop):\n",
    "        return nn.Sequential(\n",
    "            nn.Linear(in_dim, out_dim),\n",
    "            nn.GELU(),\n",
    "            nn.Dropout(drop),\n",
    "            nn.Linear(out_dim, out_dim),\n",
    "        )\n",
    "        \n",
    "    def forward(self, x, b=torch.Tensor([0.])):        \n",
    "        # Mixer blocks\n",
    "        residual1 = x\n",
    "        residual2 = x.permute(0,2,1)\n",
    "        for block1, block2 in zip(self.mixer_blocks1,self.mixer_blocks2):\n",
    "            # x = residual1 - block1(x) \n",
    "            # residual1 = x\n",
    "            # x = x.permute(0,2,1)\n",
    "            \n",
    "            # x =  residual2 - block2(x)\n",
    "            # residual2 = x\n",
    "            # x = x.permute(0,2,1)\n",
    "            x = block1(x) + residual1\n",
    "            residual1 = x\n",
    "            x = x.permute(0,2,1)\n",
    "            \n",
    "            x = block2(x) + residual2\n",
    "            residual2 = x\n",
    "            x = x.permute(0,2,1)\n",
    "        \n",
    "        x = x.reshape(x.size(0), -1)\n",
    "        \n",
    "        c = self.clin1(x)\n",
    "        \n",
    "        c = self.clip_proj(c.reshape(len(c), -1, self.clip_size))\n",
    "\n",
    "        if blurry_recon:\n",
    "            b = self.blin1(x)\n",
    "            b = b.reshape(len(b), 256, 4, 4)\n",
    "            b = self.bgroupnorm(b)\n",
    "            b = self.bupsampler(b)\n",
    "        \n",
    "        return c, b\n",
    "\n",
    "model.backbone = BrainNetwork(h=hidden_dim, in_dim=hidden_dim, seq_len=seq_len, clip_size=clip_emb_dim, out_dim=clip_emb_dim*clip_seq_dim) \n",
    "utils.count_params(model.backbone)\n",
    "utils.count_params(model)\n",
    "\n",
    "# test that the model works on some fake data\n",
    "fake_input = torch.randn((2,seq_len,hidden_dim))\n",
    "print(\"fake_input.shape\", fake_input.shape)\n",
    "clip_, blur_ = model.backbone(fake_input)\n",
    "print(clip_.shape, blur_.shape)"
   ]
  },
  {
   "cell_type": "code",
   "execution_count": 49,
   "id": "e14d0482-dc42-43b9-9ce1-953c32f2c9c1",
   "metadata": {},
   "outputs": [
    {
     "name": "stdout",
     "output_type": "stream",
     "text": [
      "total_steps 2400\n",
      "param counts:\n",
      "638,398,584 total\n",
      "638,398,584 trainable\n",
      "\n",
      "Done with model preparations!\n"
     ]
    }
   ],
   "source": [
    "no_decay = ['bias', 'LayerNorm.bias', 'LayerNorm.weight']\n",
    "opt_grouped_parameters = [\n",
    "    {'params': [p for n, p in model.ridge.named_parameters()], 'weight_decay': 1e-2},\n",
    "    {'params': [p for n, p in model.backbone.named_parameters() if not any(nd in n for nd in no_decay)], 'weight_decay': 1e-2},\n",
    "    {'params': [p for n, p in model.backbone.named_parameters() if any(nd in n for nd in no_decay)], 'weight_decay': 0.0},\n",
    "]\n",
    "\n",
    "optimizer = torch.optim.AdamW(opt_grouped_parameters, lr=max_lr)\n",
    "\n",
    "if lr_scheduler_type == 'linear':\n",
    "    lr_scheduler = torch.optim.lr_scheduler.LinearLR(\n",
    "        optimizer,\n",
    "        total_iters=int(np.floor(num_epochs*num_iterations_per_epoch)),\n",
    "        last_epoch=-1\n",
    "    )\n",
    "elif lr_scheduler_type == 'cycle':\n",
    "    total_steps=int(np.floor(num_epochs*num_iterations_per_epoch))\n",
    "    print(\"total_steps\", total_steps)\n",
    "    lr_scheduler = torch.optim.lr_scheduler.OneCycleLR(\n",
    "        optimizer, \n",
    "        max_lr=max_lr,\n",
    "        total_steps=total_steps,\n",
    "        final_div_factor=1000,\n",
    "        last_epoch=-1, pct_start=2/num_epochs\n",
    "    )\n",
    "    \n",
    "def save_ckpt(tag):    \n",
    "    ckpt_path = outdir+f'/{tag}.pth'\n",
    "    print(f'saving {ckpt_path}',flush=True)\n",
    "    unwrapped_model = accelerator.unwrap_model(model)\n",
    "    try:\n",
    "        torch.save({\n",
    "            'epoch': epoch,\n",
    "            'model_state_dict': unwrapped_model.state_dict(),\n",
    "            'optimizer_state_dict': optimizer.state_dict(),\n",
    "            'lr_scheduler': lr_scheduler.state_dict(),\n",
    "            'train_losses': losses,\n",
    "            'test_losses': test_losses,\n",
    "            'lrs': lrs,\n",
    "            }, ckpt_path)\n",
    "    except:\n",
    "        print(\"Couldn't save... moving on to prevent crashing.\")\n",
    "    del unwrapped_model\n",
    "\n",
    "utils.count_params(model)\n",
    "print(\"\\nDone with model preparations!\")"
   ]
  },
  {
   "cell_type": "markdown",
   "id": "983f458b-35b8-49f2-b6db-80296cece730",
   "metadata": {},
   "source": [
    "## Weights and Biases"
   ]
  },
  {
   "cell_type": "code",
   "execution_count": 50,
   "id": "0a25a662-daa8-4de9-9233-8364800fcb6b",
   "metadata": {},
   "outputs": [],
   "source": [
    "if local_rank==0 and wandb_log: # only use main process for wandb logging\n",
    "    import wandb\n",
    "    wandb_project = 'mindeyev2'\n",
    "    wandb_run = model_name\n",
    "    wandb_notes = ''\n",
    "    \n",
    "    print(f\"wandb {wandb_project} run {wandb_run}\")\n",
    "    wandb.login(host='https://stability.wandb.io')\n",
    "    wandb_config = {\n",
    "      \"model_name\": model_name,\n",
    "      \"global_batch_size\": global_batch_size,\n",
    "      \"batch_size\": batch_size,\n",
    "      \"num_epochs\": num_epochs,\n",
    "      \"clip_scale\": clip_scale,\n",
    "      \"blur_scale\": blur_scale,\n",
    "      \"use_image_aug\": use_image_aug,\n",
    "      \"max_lr\": max_lr,\n",
    "      \"mixup_pct\": mixup_pct,\n",
    "      \"ckpt_interval\": ckpt_interval,\n",
    "      \"ckpt_saving\": ckpt_saving,\n",
    "      \"seed\": seed,\n",
    "      \"distributed\": distributed,\n",
    "      \"num_devices\": num_devices,\n",
    "      \"world_size\": world_size,\n",
    "      \"train_url\": train_url,\n",
    "      \"test_url\": test_url,\n",
    "    }\n",
    "    print(\"wandb_config:\\n\",wandb_config)\n",
    "    if True: # wandb_auto_resume\n",
    "        print(\"wandb_id:\",model_name)\n",
    "        wandb.init(\n",
    "            id = model_name,\n",
    "            project=wandb_project,\n",
    "            name=wandb_run,\n",
    "            config=wandb_config,\n",
    "            notes=wandb_notes,\n",
    "            resume=\"allow\",\n",
    "        )\n",
    "    else:\n",
    "        wandb.init(\n",
    "            project=wandb_project,\n",
    "            name=wandb_run,\n",
    "            config=wandb_config,\n",
    "            notes=wandb_notes,\n",
    "        )\n",
    "else:\n",
    "    wandb_log = False"
   ]
  },
  {
   "cell_type": "markdown",
   "id": "d5690151-2131-4918-b750-e869cbd1a8a8",
   "metadata": {},
   "source": [
    "# Main"
   ]
  },
  {
   "cell_type": "code",
   "execution_count": 51,
   "id": "12de6387-6e18-4e4b-b5ce-a847d625330a",
   "metadata": {},
   "outputs": [
    {
     "name": "stdout",
     "output_type": "stream",
     "text": [
      "seq_len value is 3\n"
     ]
    }
   ],
   "source": [
    "epoch = 0\n",
    "losses, test_losses, lrs = [], [], []\n",
    "best_test_loss = 1e9\n",
    "soft_loss_temps = utils.cosine_anneal(0.004, 0.0075, num_epochs - int(mixup_pct * num_epochs))\n",
    "print(f'seq_len value is {seq_len}')\n",
    "# Optionally resume from checkpoint #\n",
    "if resume_from_ckpt:\n",
    "    print(\"\\n---resuming from last.pth ckpt---\\n\")\n",
    "    checkpoint = torch.load(outdir+'/last.pth', map_location='cpu')\n",
    "    epoch = checkpoint['epoch']\n",
    "    print(\"Epoch\",epoch)\n",
    "    optimizer.load_state_dict(checkpoint['optimizer_state_dict'])\n",
    "    lr_scheduler.load_state_dict(checkpoint['lr_scheduler'])\n",
    "    model.load_state_dict(checkpoint['model_state_dict'])\n",
    "    del checkpoint\n",
    "elif wandb_log:\n",
    "    if wandb.run.resumed:\n",
    "        print(\"\\n---resuming from last.pth ckpt---\\n\")\n",
    "        checkpoint = torch.load(outdir+'/last.pth', map_location='cpu')\n",
    "        epoch = checkpoint['epoch']\n",
    "        print(\"Epoch\",epoch)\n",
    "        optimizer.load_state_dict(checkpoint['optimizer_state_dict'])\n",
    "        lr_scheduler.load_state_dict(checkpoint['lr_scheduler'])\n",
    "        model.load_state_dict(checkpoint['model_state_dict'])\n",
    "        del checkpoint\n",
    "torch.cuda.empty_cache()"
   ]
  },
  {
   "cell_type": "code",
   "execution_count": 52,
   "id": "99f09f76-4481-4133-b09a-a22b10dbc0c4",
   "metadata": {},
   "outputs": [],
   "source": [
    "model, optimizer, train_dl, lr_scheduler = accelerator.prepare(\n",
    "model, optimizer, train_dl, lr_scheduler\n",
    ")\n",
    "# leaving out test_dl since we will only have local_rank 0 device do evals"
   ]
  },
  {
   "cell_type": "code",
   "execution_count": 57,
   "id": "60be0d5f-3e94-4612-9373-61b53d836393",
   "metadata": {},
   "outputs": [
    {
     "name": "stdout",
     "output_type": "stream",
     "text": [
      "MixerMLP starting with epoch 0 / 12\n"
     ]
    },
    {
     "name": "stderr",
     "output_type": "stream",
     "text": [
      "  0%|                                                                                                                                                                                                                                                                                                                                                                                                                                                                                                                                                                                                                                                                                                                                                                                                                                                                                                                                                                                                                                                                                                                                                                                                                    | 0/12 [00:00<?, ?it/s]"
     ]
    },
    {
     "name": "stderr",
     "output_type": "stream",
     "text": [
      "  0%|                                                                                                                                                                                                                                                                                                                                                                                                                                                                                                                                                                                                                                                                                                                                                                                                                                 | 0/12 [01:04<?, ?it/s, test/blurry_pixcorr=0, test/loss=3.21, test/loss_blurry_total=0, test/loss_clip_total=3.21, test/num_steps=1, test/test_bwd_pct_correct=0.177, test/test_fwd_pct_correct=0.303, train/blurry_pixcorr=0, train/bwd_pct_correct=0.69, train/fwd_pct_correct=0.738, train/loss=0.744, train/loss_blurry_total=0, train/loss_clip_total=0.744, train/lr=0.000293, train/num_steps=600]"
     ]
    },
    {
     "name": "stdout",
     "output_type": "stream",
     "text": [
      "---\n"
     ]
    },
    {
     "name": "stderr",
     "output_type": "stream",
     "text": [
      " 17%|████████████████████████████████████████████████████████████████████████████████████████████████████████████████████████████████████▏                                                                                                                                                                                                                                                                                                                                                                                                                                                                                                                                                                                                                                                                                    | 2/12 [01:50<08:57, 53.72s/it, test/blurry_pixcorr=0, test/loss=2.92, test/loss_blurry_total=0, test/loss_clip_total=2.92, test/num_steps=2, test/test_bwd_pct_correct=0.22, test/test_fwd_pct_correct=0.387, train/blurry_pixcorr=0, train/bwd_pct_correct=0.724, train/fwd_pct_correct=0.758, train/loss=0.581, train/loss_blurry_total=0, train/loss_clip_total=0.581, train/lr=0.000272, train/num_steps=800]"
     ]
    },
    {
     "name": "stdout",
     "output_type": "stream",
     "text": [
      "---\n"
     ]
    },
    {
     "name": "stderr",
     "output_type": "stream",
     "text": [
      " 25%|█████████████████████████████████████████████████████████████████████████████████████████████████████████████████████████████████████████████████████████████████████████████████████████████████████▊                                                                                                                                                                                                                                                                                                                                                                                                                                                                                                                                                                                                                 | 3/12 [02:36<07:32, 50.24s/it, test/blurry_pixcorr=0, test/loss=2.69, test/loss_blurry_total=0, test/loss_clip_total=2.69, test/num_steps=3, test/test_bwd_pct_correct=0.263, test/test_fwd_pct_correct=0.393, train/blurry_pixcorr=0, train/bwd_pct_correct=0.774, train/fwd_pct_correct=0.782, train/loss=0.459, train/loss_blurry_total=0, train/loss_clip_total=0.459, train/lr=0.000239, train/num_steps=1000]"
     ]
    },
    {
     "name": "stdout",
     "output_type": "stream",
     "text": [
      "---\n"
     ]
    },
    {
     "name": "stderr",
     "output_type": "stream",
     "text": [
      " 25%|██████████████████████████████████████████████████████████████████████████████████████████████████████████████████████████████████████████████████████████████████████████████████████████████████████                                                                                                                                                                                                                                                                                                                                                                                                                                                                                                                                                                                                                  | 3/12 [03:22<07:32, 50.24s/it, test/blurry_pixcorr=0, test/loss=2.62, test/loss_blurry_total=0, test/loss_clip_total=2.62, test/num_steps=4, test/test_bwd_pct_correct=0.34, test/test_fwd_pct_correct=0.453, train/blurry_pixcorr=0, train/bwd_pct_correct=0.778, train/fwd_pct_correct=0.777, train/loss=0.428, train/loss_blurry_total=0, train/loss_clip_total=0.428, train/lr=0.000197, train/num_steps=1200]"
     ]
    },
    {
     "name": "stdout",
     "output_type": "stream",
     "text": [
      "---\n"
     ]
    },
    {
     "name": "stderr",
     "output_type": "stream",
     "text": [
      " 33%|████████████████████████████████████████████████████████████████████████████████████████████████████████████████████████████████████████████████████████████████████████████████████████████████████████████████████████████████████████████████████████████████████████▎                                                                                                                                                                                                                                                                                                                                                                                                                                                                                                                                                | 4/12 [04:08<06:29, 48.70s/it, test/blurry_pixcorr=0, test/loss=2.65, test/loss_blurry_total=0, test/loss_clip_total=2.65, test/num_steps=5, test/test_bwd_pct_correct=0.33, test/test_fwd_pct_correct=0.44, train/blurry_pixcorr=0, train/bwd_pct_correct=0.769, train/fwd_pct_correct=0.767, train/loss=0.381, train/loss_blurry_total=0, train/loss_clip_total=0.381, train/lr=0.000151, train/num_steps=1400]"
     ]
    },
    {
     "name": "stdout",
     "output_type": "stream",
     "text": [
      "---\n"
     ]
    },
    {
     "name": "stderr",
     "output_type": "stream",
     "text": [
      " 42%|██████████████████████████████████████████████████████████████████████████████████████████████████████████████████████████████████████████████████████████████████████████████████████████████████████████████████████████████████████████████████████████████████████████████████████████████████████████████████████████████████████████▊                                                                                                                                                                                                                                                                                                                                                                                                                                                                               | 5/12 [04:55<05:34, 47.85s/it, test/blurry_pixcorr=0, test/loss=2.5, test/loss_blurry_total=0, test/loss_clip_total=2.5, test/num_steps=6, test/test_bwd_pct_correct=0.34, test/test_fwd_pct_correct=0.483, train/blurry_pixcorr=0, train/bwd_pct_correct=0.781, train/fwd_pct_correct=0.777, train/loss=0.346, train/loss_blurry_total=0, train/loss_clip_total=0.346, train/lr=0.000105, train/num_steps=1600]"
     ]
    },
    {
     "name": "stdout",
     "output_type": "stream",
     "text": [
      "---\n"
     ]
    },
    {
     "name": "stderr",
     "output_type": "stream",
     "text": [
      " 58%|████████████████████████████████████████████████████████████████████████████████████████████████████████████████████████████████████████████████████████████████████████████████████████████████████████████████████████████████████████████████████████████████████████████████████████████████████████████████████████████████████████████████████████████████████████████████████████████████████████████████████████████████████████████████████████████████████████████████▎                                                                                                                                                                                                                                                                                                                                           | 7/12 [05:41<03:54, 46.92s/it, test/blurry_pixcorr=0, test/loss=2.5, test/loss_blurry_total=0, test/loss_clip_total=2.5, test/num_steps=7, test/test_bwd_pct_correct=0.37, test/test_fwd_pct_correct=0.487, train/blurry_pixcorr=0, train/bwd_pct_correct=0.77, train/fwd_pct_correct=0.766, train/loss=0.335, train/loss_blurry_total=0, train/loss_clip_total=0.335, train/lr=6.26e-5, train/num_steps=1800]"
     ]
    },
    {
     "name": "stdout",
     "output_type": "stream",
     "text": [
      "---\n"
     ]
    },
    {
     "name": "stderr",
     "output_type": "stream",
     "text": [
      " 67%|██████████████████████████████████████████████████████████████████████████████████████████████████████████████████████████████████████████████████████████████████████████████████████████████████████████████████████████████████████████████████████████████████████████████████████████████████████████████████████████████████████████████████████████████████████████████████████████████████████████████████████████████████████████████████████████████████████████████████████████████████████████████████████████████████████████████▋                                                                                                                                                                                                                                                                       | 8/12 [06:27<03:06, 46.58s/it, test/blurry_pixcorr=0, test/loss=2.37, test/loss_blurry_total=0, test/loss_clip_total=2.37, test/num_steps=8, test/test_bwd_pct_correct=0.367, test/test_fwd_pct_correct=0.543, train/blurry_pixcorr=0, train/bwd_pct_correct=0.992, train/fwd_pct_correct=0.993, train/loss=0.0187, train/loss_blurry_total=0, train/loss_clip_total=0.0187, train/lr=2.92e-5, train/num_steps=2000]"
     ]
    },
    {
     "name": "stdout",
     "output_type": "stream",
     "text": [
      "---\n"
     ]
    },
    {
     "name": "stderr",
     "output_type": "stream",
     "text": [
      " 75%|███████████████████████████████████████████████████████████████████████████████████████████████████████████████████████████████████████████████████████████████████████████████████████████████████████████████████████████████████████████████████████████████████████████████████████████████████████████████████████████████████████████████████████████████████████████████████████████████████████████████████████████████████████████████████████████████████████████████████████████████████████████████████████████████████████████████████████████████████████████████████████████████████████████████████▌                                                                                                                                                                                                      | 9/12 [07:13<02:19, 46.34s/it, test/blurry_pixcorr=0, test/loss=2.33, test/loss_blurry_total=0, test/loss_clip_total=2.33, test/num_steps=9, test/test_bwd_pct_correct=0.363, test/test_fwd_pct_correct=0.547, train/blurry_pixcorr=0, train/bwd_pct_correct=0.992, train/fwd_pct_correct=0.992, train/loss=0.02, train/loss_blurry_total=0, train/loss_clip_total=0.02, train/lr=7.72e-6, train/num_steps=2200]"
     ]
    },
    {
     "name": "stdout",
     "output_type": "stream",
     "text": [
      "---\n"
     ]
    },
    {
     "name": "stderr",
     "output_type": "stream",
     "text": [
      " 83%|████████████████████████████████████████████████████████████████████████████████████████████████████████████████████████████████████████████████████████████████████████████████████████████████████████████████████████████████████████████████████████████████████████████████████████████████████████████████████████████████████████████████████████████████████████████████████████████████████████████████████████████████████████████████████████████████████████████████████████████████████████████████████████████████████████████████████████████████████████████████████████████████████████████████████████████████████████████████████████████████████████████████▋                                                                                                                                   | 10/12 [07:59<01:32, 46.18s/it, test/blurry_pixcorr=0, test/loss=2.31, test/loss_blurry_total=0, test/loss_clip_total=2.31, test/num_steps=10, test/test_bwd_pct_correct=0.357, test/test_fwd_pct_correct=0.553, train/blurry_pixcorr=0, train/bwd_pct_correct=0.996, train/fwd_pct_correct=0.995, train/loss=0.0249, train/loss_blurry_total=0, train/loss_clip_total=0.0249, train/lr=1.66e-8, train/num_steps=2400]"
     ]
    },
    {
     "name": "stdout",
     "output_type": "stream",
     "text": [
      "---\n"
     ]
    },
    {
     "name": "stderr",
     "output_type": "stream",
     "text": [
      " 83%|████████████████████████████████████████████████████████████████████████████████████████████████████████████████████████████████████████████████████████████████████████████████████████████████████████████████████████████████████████████████████████████████████████████████████████████████████████████████████████████████████████████████████████████████████████████████████████████████████████████████████████████████████████████████████████████████████████████████████████████████████████████████████████████████████████████████████████████████████████████████████████████████████████████████████████████████████████████████████████████████████████████████▋                                                                                                                                   | 10/12 [08:44<01:32, 46.18s/it, test/blurry_pixcorr=0, test/loss=2.31, test/loss_blurry_total=0, test/loss_clip_total=2.31, test/num_steps=11, test/test_bwd_pct_correct=0.357, test/test_fwd_pct_correct=0.553, train/blurry_pixcorr=0, train/bwd_pct_correct=0.992, train/fwd_pct_correct=0.992, train/loss=0.0494, train/loss_blurry_total=0, train/loss_clip_total=0.0494, train/lr=1.22e-8, train/num_steps=2600]"
     ]
    },
    {
     "name": "stdout",
     "output_type": "stream",
     "text": [
      "---\n"
     ]
    },
    {
     "name": "stderr",
     "output_type": "stream",
     "text": [
      "100%|████████████████████████████████████████████████████████████████████████████████████████████████████████████████████████████████████████████████████████████████████████████████████████████████████████████████████████████████████████████████████████████████████████████████████████████████████████████████████████████████████████████████████████████████████████████████████████████████████████████████████████████████████████████████████████████████████████████████████████████████████████████████████████████████████████████████████████████████████████████████████████████████████████████████████████████████████████████████████████████████████████████████████████████████████████████████████████████████████████████████████████████████████████████████████████████████████████████████████| 12/12 [09:31<00:00, 46.00s/it, test/blurry_pixcorr=0, test/loss=2.31, test/loss_blurry_total=0, test/loss_clip_total=2.31, test/num_steps=12, test/test_bwd_pct_correct=0.357, test/test_fwd_pct_correct=0.553, train/blurry_pixcorr=0, train/bwd_pct_correct=0.993, train/fwd_pct_correct=0.994, train/loss=0.0604, train/loss_blurry_total=0, train/loss_clip_total=0.0604, train/lr=1.22e-8, train/num_steps=2800]"
     ]
    },
    {
     "name": "stdout",
     "output_type": "stream",
     "text": [
      "---\n"
     ]
    },
    {
     "name": "stderr",
     "output_type": "stream",
     "text": [
      "100%|████████████████████████████████████████████████████████████████████████████████████████████████████████████████████████████████████████████████████████████████████████████████████████████████████████████████████████████████████████████████████████████████████████████████████████████████████████████████████████████████████████████████████████████████████████████████████████████████████████████████████████████████████████████████████████████████████████████████████████████████████████████████████████████████████████████████████████████████████████████████████████████████████████████████████████████████████████████████████████████████████████████████████████████████████████████████████████████████████████████████████████████████████████████████████████████████████████████████████| 12/12 [09:31<00:00, 47.59s/it, test/blurry_pixcorr=0, test/loss=2.31, test/loss_blurry_total=0, test/loss_clip_total=2.31, test/num_steps=12, test/test_bwd_pct_correct=0.357, test/test_fwd_pct_correct=0.553, train/blurry_pixcorr=0, train/bwd_pct_correct=0.993, train/fwd_pct_correct=0.994, train/loss=0.0604, train/loss_blurry_total=0, train/loss_clip_total=0.0604, train/lr=1.22e-8, train/num_steps=2800]"
     ]
    },
    {
     "name": "stdout",
     "output_type": "stream",
     "text": [
      "\n",
      "===Finished!===\n",
      "\n"
     ]
    },
    {
     "name": "stderr",
     "output_type": "stream",
     "text": [
      "\n"
     ]
    }
   ],
   "source": [
    "print(f\"{model_name} starting with epoch {epoch} / {num_epochs}\")\n",
    "progress_bar = tqdm(range(epoch,num_epochs), ncols=1200, disable=(local_rank!=0))\n",
    "test_image, test_voxel = None, None\n",
    "mse = nn.MSELoss()\n",
    "l1 = nn.L1Loss()\n",
    "\n",
    "for epoch in progress_bar:\n",
    "    model.train()\n",
    "    \n",
    "    fwd_percent_correct = 0.\n",
    "    bwd_percent_correct = 0.\n",
    "    test_fwd_percent_correct = 0.\n",
    "    test_bwd_percent_correct = 0.\n",
    "\n",
    "    loss_clip_total = 0.\n",
    "    loss_blurry_total = 0.\n",
    "    test_loss_clip_total = 0.\n",
    "    test_loss_blurry_total = 0.\n",
    "\n",
    "    blurry_pixcorr = 0.\n",
    "    test_blurry_pixcorr = 0. # needs >.456 to beat low-level subj01 results in mindeye v1\n",
    "    \n",
    "    for train_i, (behav, past_behav, future_behav, old_behav) in enumerate(train_dl):\n",
    "        with torch.cuda.amp.autocast(dtype=data_type):\n",
    "            optimizer.zero_grad()\n",
    "    \n",
    "            voxel = voxels[behav[:,0,5].cpu().long()].to(device) # Global Trail\n",
    "            image = images[behav[:,0,0].cpu().long()].to(device).float() # 73KID\n",
    "\n",
    "            if seq_len > 1:\n",
    "                # org\n",
    "                # past_behavior = past_behav[:,:(seq_len-1),5].cpu().long() # Global Trail Numbers for past behavior\n",
    "                # past_voxel = voxels[past_behavior]\n",
    "                # if torch.any(past_behavior==-1).item(): # remove invalid voxels (-1 if there is no timepoint available)\n",
    "                #     past_voxel[torch.where(past_behavior==-1)[0]] = 0\n",
    "                # past_voxel = torch.Tensor(past_voxel).to(data_type).to(device)\n",
    "\n",
    "                # for len_past\n",
    "                past_behavior = past_behav[:,:(len_past),5].cpu().long() # Global Trail Numbers for past behavior\n",
    "                past_voxel = voxels[past_behavior]\n",
    "                if torch.any(past_behavior==-1).item(): # remove invalid voxels (-1 if there is no timepoint available)\n",
    "                    past_voxel[torch.where(past_behavior==-1)[0]] = 0\n",
    "                    # past_voxel = torch.Tensor(past_voxel).to(data_type).to(device)\n",
    "                # for len_future\n",
    "                future_behavior = future_behav[:,:(len_future),5].cpu().long() # Global Trail Numbers for past behavior\n",
    "                future_voxel = voxels[future_behavior]\n",
    "                if torch.any(future_behavior==-1).item(): # remove invalid voxels (-1 if there is no timepoint available)\n",
    "                    future_voxel[torch.where(future_behavior==-1)[0]] = 0\n",
    "                # future_voxel = torch.Tensor(future_voxel).to(data_type).to(device)\n",
    "                mem_voxel = torch.cat((past_voxel,future_voxel),axis=1)\n",
    "                mem_voxel = torch.Tensor(mem_voxel).to(data_type).to(device)\n",
    "    \n",
    "            if blurry_recon:\n",
    "                # using pixellated blurry ground truth references seems to do better than gaussian blur\n",
    "                rand = np.random.rand() \n",
    "                if rand > .66: # using different interpolation sizes for data augmentation\n",
    "                    blurry_image = utils.resize(nn.functional.interpolate(image, size=(8, 8), mode='bilinear', align_corners=False),128)\n",
    "                elif rand > .33:\n",
    "                    blurry_image = utils.resize(nn.functional.interpolate(image, size=(12, 12), mode='bilinear', align_corners=False),128)\n",
    "                else:\n",
    "                    blurry_image = utils.resize(nn.functional.interpolate(image, size=(24, 24), mode='bilinear', align_corners=False), 128)\n",
    "                # blurry_image = utils.add_saturation(blurry_image) # PS: I'm not sure that this helps\n",
    "                blurry_image_enc = autoenc.encode(2*blurry_image-1).latent_dist.mode() * 0.18215\n",
    "            \n",
    "            if use_image_aug: \n",
    "                image = img_augment(image)\n",
    "    \n",
    "            clip_target = clip_model.embed_image(image)\n",
    "            assert not torch.any(torch.isnan(clip_target))\n",
    "    \n",
    "            if epoch < int(mixup_pct * num_epochs):\n",
    "                voxel, perm, betas, select = utils.mixco(voxel)\n",
    "    \n",
    "            voxel_ridge = model.ridge(voxel) # [B, 1, hidden_dim]\n",
    "\n",
    "            if seq_len > 1:\n",
    "                mem_voxel_ridge = model.ridge(mem_voxel)\n",
    "                voxel_ridge = torch.cat((voxel_ridge, mem_voxel_ridge), axis=1) # [B, seq_len, hidden_dim]\n",
    "                # past_voxel_ridge = model.ridge(past_voxel)\n",
    "                # voxel_ridge = torch.cat((voxel_ridge, past_voxel_ridge), axis=1) # [B, seq_len, hidden_dim]\n",
    "                # future_voxel_ridge = model.ridge(future_voxel)\n",
    "                # voxel_ridge = torch.cat((voxel_ridge, future_voxel_ridge), axis=1) # [B, seq_len, hidden_dim]\n",
    "    \n",
    "            clip_voxels, blurry_image_enc_ = model.backbone(voxel_ridge)\n",
    "            \n",
    "            clip_voxels_norm = nn.functional.normalize(clip_voxels.flatten(1), dim=-1)\n",
    "            clip_target_norm = nn.functional.normalize(clip_target.flatten(1), dim=-1)\n",
    "    \n",
    "            if epoch < int(mixup_pct * num_epochs):\n",
    "                loss_clip = utils.mixco_nce(\n",
    "                    clip_voxels_norm,\n",
    "                    clip_target_norm,\n",
    "                    temp=.006, \n",
    "                    perm=perm, betas=betas, select=select)\n",
    "            else:\n",
    "                epoch_temp = soft_loss_temps[epoch-int(mixup_pct*num_epochs)]\n",
    "                loss_clip = utils.soft_clip_loss(\n",
    "                    clip_voxels_norm,\n",
    "                    clip_target_norm,\n",
    "                    temp=epoch_temp)\n",
    "\n",
    "            loss_clip_total += loss_clip.item()\n",
    "            loss_clip *= clip_scale\n",
    "            loss = loss_clip\n",
    "    \n",
    "            if blurry_recon:\n",
    "                loss_blurry = l1(blurry_image_enc_, blurry_image_enc)\n",
    "                loss_blurry_total += loss_blurry.item()\n",
    "                loss_blurry *= blur_scale\n",
    "                loss += loss_blurry\n",
    "    \n",
    "            # forward and backward top 1 accuracy        \n",
    "            labels = torch.arange(len(clip_target_norm)).to(clip_voxels_norm.device) \n",
    "            fwd_percent_correct += utils.topk(torch.abs(utils.batchwise_cosine_similarity(clip_voxels_norm, clip_target_norm)), labels, k=1).item()\n",
    "            bwd_percent_correct += utils.topk(torch.abs(utils.batchwise_cosine_similarity(clip_target_norm, clip_voxels_norm)), labels, k=1).item()\n",
    "    \n",
    "            if blurry_recon:\n",
    "                with torch.no_grad():\n",
    "                    # only doing pixcorr eval on a subset of the samples per batch because its costly & slow to compute autoenc.decode()\n",
    "                    random_samps = np.random.choice(np.arange(len(voxel)), size=batch_size//5, replace=False)\n",
    "                    blurry_recon_images = (autoenc.decode(blurry_image_enc_[random_samps]/0.18215).sample/ 2 + 0.5).clamp(0,1)\n",
    "                    pixcorr = utils.pixcorr(image[random_samps], blurry_recon_images)\n",
    "                    blurry_pixcorr += pixcorr.item()\n",
    "\n",
    "            utils.check_loss(loss)\n",
    "            accelerator.backward(loss)\n",
    "            optimizer.step()\n",
    "    \n",
    "            losses.append(loss.item())\n",
    "            lrs.append(optimizer.param_groups[0]['lr'])\n",
    "    \n",
    "            if lr_scheduler_type is not None:\n",
    "                lr_scheduler.step()\n",
    "\n",
    "    model.eval()\n",
    "    if local_rank==0:\n",
    "        with torch.no_grad(), torch.cuda.amp.autocast(dtype=data_type): \n",
    "            for test_i, (behav, past_behav, future_behav, old_behav) in enumerate(test_dl):  \n",
    "                # all test samples should be loaded per batch such that test_i should never exceed 0\n",
    "                assert len(behav) == num_test\n",
    "                \n",
    "                ## Average same-image repeats ##\n",
    "                if test_image is None:\n",
    "                    voxel = voxels[behav[:,0,5].cpu().long()]\n",
    "\n",
    "                    if seq_len > 1:\n",
    "                        # org\n",
    "                        # past_behavior = past_behav[:,:(seq_len-1),5].cpu().long()\n",
    "                        # past_voxel = voxels[past_behavior]\n",
    "                        # if torch.any(past_behavior==-1).item(): # remove invalid voxels (-1 if there is no timepoint available)\n",
    "                        #     past_voxel[torch.where(past_behavior==-1)[0]] = 0\n",
    "                        # past_voxel = torch.Tensor(past_voxel).to(data_type)\n",
    "\n",
    "                        # for len_past\n",
    "                        past_behavior = past_behav[:,:(len_past),5].cpu().long()\n",
    "                        # print(f'the past behavior is : {past_behavior}')\n",
    "                        past_voxel = voxels[past_behavior]\n",
    "                        # print(f'the past voxel is : {past_voxel}')\n",
    "                        if torch.any(past_behavior==-1).item(): # remove invalid voxels (-1 if there is no timepoint available)\n",
    "                            past_voxel[torch.where(past_behavior==-1)[0]] = 0\n",
    "                        # past_voxel = torch.Tensor(past_voxel).to(data_type)\n",
    "\n",
    "                        # for len_future\n",
    "                        future_behavior = future_behav[:,:(len_future),5].cpu().long() # Global Trail Numbers for past behavior\n",
    "                        future_voxel = voxels[future_behavior]\n",
    "                        if torch.any(future_behavior==-1).item(): # remove invalid voxels (-1 if there is no timepoint available)\n",
    "                            future_voxel[torch.where(future_behavior==-1)[0]] = 0\n",
    "                        # future_voxel = torch.Tensor(future_voxel).to(data_type).to(device)\n",
    "                            \n",
    "                        # past & future seq concat\n",
    "                        mem_voxel = torch.cat((past_voxel,future_voxel), axis=1)\n",
    "                        mem_voxel = torch.Tensor(mem_voxel).to(data_type).to(device)\n",
    "                \n",
    "                    image = behav[:,0,0].cpu().long()\n",
    "                \n",
    "                    unique_image, sort_indices = torch.unique(image, return_inverse=True)\n",
    "                    for im in unique_image:\n",
    "                        locs = torch.where(im == image)[0]\n",
    "                        if len(locs)==1:\n",
    "                            locs = locs.repeat(3)\n",
    "                        elif len(locs)==2:\n",
    "                            locs = locs.repeat(2)[:3]\n",
    "                        assert len(locs)==3\n",
    "                        if test_image is None:\n",
    "                            test_image = images[im][None]\n",
    "                            test_voxel = voxel[locs][None]\n",
    "                            if seq_len > 1:\n",
    "                                # test_past_voxel = past_voxel[locs][None]\n",
    "                                # test_future_voxel = future_voxel[locs][None]\n",
    "                                test_mem_voxel = mem_voxel[locs][None]\n",
    "                        else:\n",
    "                            test_image = torch.vstack((test_image, images[im][None]))\n",
    "                            test_voxel = torch.vstack((test_voxel, voxel[locs][None]))\n",
    "                            if seq_len > 1:\n",
    "                                # test_past_voxel = torch.vstack((test_past_voxel, past_voxel[locs][None]))\n",
    "                                # test_future_voxel = torch.vstack((test_future_voxel, future_voxel[locs][None]))\n",
    "                                test_mem_voxel = torch.vstack((test_mem_voxel, mem_voxel[locs][None]))\n",
    "    \n",
    "                # validation sample of 300\n",
    "                val_indices = torch.arange(len(test_voxel))[:test_batch_size]\n",
    "                voxel = test_voxel[val_indices].to(device)\n",
    "                if seq_len > 1:\n",
    "                    # past_voxel = test_past_voxel[val_indices].to(device)\n",
    "                    # future_voxel = test_future_voxel[val_indices].to(device)\n",
    "                    mem_voxel = test_mem_voxel[val_indices].to(device)\n",
    "                image = test_image[val_indices].to(device)\n",
    "                assert len(image) == 300\n",
    "                \n",
    "                for rep in range(3):\n",
    "                    voxel_ridge = model.ridge(voxel[:,rep])\n",
    "                    if seq_len > 1:\n",
    "                        # org\n",
    "                        # past_voxel_ridge = model.ridge(past_voxel[:,rep])\n",
    "                        # voxel_ridge = torch.cat((voxel_ridge, past_voxel_ridge), axis=1)\n",
    "\n",
    "                        # flexible module\n",
    "                        # past_voxel_ridge = model.ridge(past_voxel[:,rep])\n",
    "                        # voxel_ridge = torch.cat((voxel_ridge, past_voxel_ridge), axis=1)\n",
    "                        # future_voxel_ridge = model.ridge(future_voxel[:,rep])\n",
    "                        # voxel_ridge = torch.cat((voxel_ridge, future_voxel_ridge), axis=1)\n",
    "                        # mem changed\n",
    "                        mem_voxel_ridge = model.ridge(mem_voxel[:,rep])\n",
    "                        voxel_ridge = torch.cat((voxel_ridge, mem_voxel_ridge), axis=1)\n",
    "                    clip_voxels0, blurry_image_enc_0 = model.backbone(voxel_ridge)\n",
    "                    if rep==0:\n",
    "                        clip_voxels = clip_voxels0\n",
    "                        if blurry_recon: blurry_image_enc_ = blurry_image_enc_0\n",
    "                    else:\n",
    "                        clip_voxels += clip_voxels0\n",
    "                        if blurry_recon: blurry_image_enc_ += blurry_image_enc_0\n",
    "                clip_voxels /= 3\n",
    "                if blurry_recon: \n",
    "                    blurry_image_enc_ /= 3\n",
    "                    blurry_image_enc = autoenc.encode(2*utils.resize(image,128)-1).latent_dist.mode() * 0.18215\n",
    "            \n",
    "                clip_target = clip_model.embed_image(image.float())\n",
    "                \n",
    "                clip_voxels_norm = nn.functional.normalize(clip_voxels.flatten(1), dim=-1)\n",
    "                clip_target_norm = nn.functional.normalize(clip_target.flatten(1), dim=-1)\n",
    "        \n",
    "                loss_clip = utils.soft_clip_loss(\n",
    "                    clip_voxels_norm,\n",
    "                    clip_target_norm,\n",
    "                    temp=.006)\n",
    "                test_loss_clip_total += loss_clip.item()\n",
    "                loss_clip = loss_clip * clip_scale\n",
    "                loss = loss_clip\n",
    "\n",
    "                if blurry_recon:\n",
    "                    loss_blurry = l1(blurry_image_enc_, blurry_image_enc)\n",
    "                    test_loss_blurry_total += loss_blurry.item()\n",
    "                    loss_blurry *= blur_scale\n",
    "                    loss += loss_blurry\n",
    "    \n",
    "                    # halving the batch size because the decoder is computationally heavy\n",
    "                    blurry_recon_images = (autoenc.decode(blurry_image_enc_[:len(voxel)//2]/0.18215).sample / 2 + 0.5).clamp(0,1)\n",
    "                    blurry_recon_images = torch.vstack((blurry_recon_images, (autoenc.decode(blurry_image_enc_[len(voxel)//2:]/0.18215).sample / 2 + 0.5).clamp(0,1)))\n",
    "                    pixcorr = utils.pixcorr(image, blurry_recon_images)\n",
    "                    test_blurry_pixcorr += pixcorr.item()\n",
    "        \n",
    "                # forward and backward top 1 accuracy        \n",
    "                labels = torch.arange(len(clip_target_norm)).to(clip_voxels_norm.device) \n",
    "                test_fwd_percent_correct += utils.topk(utils.batchwise_cosine_similarity(clip_voxels_norm, clip_target_norm), labels, k=1).item()\n",
    "                test_bwd_percent_correct += utils.topk(utils.batchwise_cosine_similarity(clip_target_norm, clip_voxels_norm), labels, k=1).item()\n",
    "\n",
    "                utils.check_loss(loss)                \n",
    "                test_losses.append(loss.item())\n",
    "\n",
    "            print(\"---\")\n",
    "            \n",
    "            assert (test_i+1) == 1\n",
    "            logs = {\"train/loss\": np.mean(losses[-(train_i+1):]),\n",
    "                \"test/loss\": np.mean(test_losses[-(test_i+1):]),\n",
    "                \"train/lr\": lrs[-1],\n",
    "                \"train/num_steps\": len(losses),\n",
    "                \"test/num_steps\": len(test_losses),\n",
    "                \"train/fwd_pct_correct\": fwd_percent_correct / (train_i + 1),\n",
    "                \"train/bwd_pct_correct\": bwd_percent_correct / (train_i + 1),\n",
    "                \"test/test_fwd_pct_correct\": test_fwd_percent_correct / (test_i + 1),\n",
    "                \"test/test_bwd_pct_correct\": test_bwd_percent_correct / (test_i + 1),\n",
    "                \"train/loss_clip_total\": loss_clip_total / (train_i + 1),\n",
    "                \"train/loss_blurry_total\": loss_blurry_total / (train_i + 1),\n",
    "                \"test/loss_clip_total\": test_loss_clip_total / (test_i + 1),\n",
    "                \"test/loss_blurry_total\": test_loss_blurry_total / (test_i + 1),\n",
    "                \"train/blurry_pixcorr\": blurry_pixcorr / (train_i + 1),\n",
    "                \"test/blurry_pixcorr\": test_blurry_pixcorr / (test_i + 1),\n",
    "                }\n",
    "    \n",
    "            if blurry_recon:    \n",
    "                # transform blurry recon latents to images and plot it\n",
    "                fig, axes = plt.subplots(1, 8, figsize=(10, 4))\n",
    "                jj=-1\n",
    "                for j in [0,1,2,3]:\n",
    "                    jj+=1\n",
    "                    axes[jj].imshow(utils.torch_to_Image((autoenc.decode(blurry_image_enc[[j]]/0.18215).sample / 2 + 0.5).clamp(0,1)))\n",
    "                    axes[jj].axis('off')\n",
    "                    jj+=1\n",
    "                    axes[jj].imshow(utils.torch_to_Image((autoenc.decode(blurry_image_enc_[[j]]/0.18215).sample / 2 + 0.5).clamp(0,1)))\n",
    "                    axes[jj].axis('off')\n",
    "                \n",
    "                if wandb_log:\n",
    "                    logs[f\"test/recons\"] = wandb.Image(fig, caption=f\"epoch{epoch:03d}\")\n",
    "                    plt.close()\n",
    "                else:\n",
    "                    plt.show()\n",
    "            \n",
    "            progress_bar.set_postfix(**logs)\n",
    "    \n",
    "            # Save model checkpoint and reconstruct\n",
    "            if epoch % ckpt_interval == 0 and ckpt_saving:\n",
    "                if not utils.is_interactive():\n",
    "                    save_ckpt(f'last')\n",
    "                    \n",
    "            if wandb_log: wandb.log(logs)\n",
    "\n",
    "    # wait for other GPUs to catch up if needed\n",
    "    accelerator.wait_for_everyone()\n",
    "    torch.cuda.empty_cache()\n",
    "    gc.collect()\n",
    "\n",
    "print(\"\\n===Finished!===\\n\")\n",
    "if ckpt_saving:\n",
    "    save_ckpt(f'last')\n",
    "if not utils.is_interactive():\n",
    "    sys.exit(0)"
   ]
  },
  {
   "cell_type": "code",
   "execution_count": 22,
   "id": "93e87fde-815d-4452-9915-f5f5dacf7c2a",
   "metadata": {},
   "outputs": [
    {
     "data": {
      "image/png": "[encoded data removed]",
      "text/plain": [
       "<Figure size 640x480 with 1 Axes>"
      ]
     },
     "metadata": {},
     "output_type": "display_data"
    },
    {
     "data": {
      "image/png": "[encoded data removed]",
      "text/plain": [
       "<Figure size 640x480 with 1 Axes>"
      ]
     },
     "metadata": {},
     "output_type": "display_data"
    }
   ],
   "source": [
    "plt.plot(losses)\n",
    "plt.title('Losses')\n",
    "plt.ylabel('Loss')\n",
    "plt.xlabel('Iteration')\n",
    "plt.show()\n",
    "plt.plot(test_losses)\n",
    "plt.title('test_losses')\n",
    "plt.ylabel('Loss')\n",
    "plt.xlabel('Epochs')\n",
    "plt.show()"
   ]
  }
 ],
 "metadata": {
  "kernelspec": {
   "display_name": "Python 3 (ipykernel)",
   "language": "python",
   "name": "python3"
  },
  "language_info": {
   "codemirror_mode": {
    "name": "ipython",
    "version": 3
   },
   "file_extension": ".py",
   "mimetype": "text/x-python",
   "name": "python",
   "nbconvert_exporter": "python",
   "pygments_lexer": "ipython3",
   "version": "3.10.13"
  },
  "toc": {
   "base_numbering": 1,
   "nav_menu": {},
   "number_sections": true,
   "sideBar": true,
   "skip_h1_title": false,
   "title_cell": "Table of Contents",
   "title_sidebar": "Contents",
   "toc_cell": false,
   "toc_position": {
    "height": "calc(100% - 180px)",
    "left": "10px",
    "top": "150px",
    "width": "165px"
   },
   "toc_section_display": true,
   "toc_window_display": true
  },
  "toc-autonumbering": true,
  "vscode": {
   "interpreter": {
    "hash": "62aae01ef0cf7b6af841ab1c8ce59175c4332e693ab3d00bc32ceffb78a35376"
   }
  }
 },
 "nbformat": 4,
 "nbformat_minor": 5
}
